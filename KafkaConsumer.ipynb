{
 "cells": [
  {
   "cell_type": "code",
   "execution_count": 9,
   "id": "9e78afef-7c62-4e2d-b92d-b15af00f70a8",
   "metadata": {},
   "outputs": [],
   "source": [
    "from kafka import KafkaConsumer\n",
    "from time import sleep\n",
    "import json\n",
    "from json import dumps, loads"
   ]
  },
  {
   "cell_type": "code",
   "execution_count": 10,
   "id": "199d32b4-6ca0-4710-b2ec-fcb490b56313",
   "metadata": {},
   "outputs": [],
   "source": [
    "consumer = KafkaConsumer('topic_name',\n",
    "                         bootstrap_servers=['40.90.249.251:9092'],\n",
    "                         value_deserializer=lambda x: loads(x.decode('utf-8')))"
   ]
  },
  {
   "cell_type": "code",
   "execution_count": null,
   "id": "c0ee1e0a-8a39-4c37-bf49-fccdbd1bf71a",
   "metadata": {},
   "outputs": [],
   "source": [
    "for c in consumer:\n",
    "    print(c.value)"
   ]
  },
  {
   "cell_type": "code",
   "execution_count": null,
   "id": "468b640d-d7ef-4ba3-a9b6-166586d7283b",
   "metadata": {},
   "outputs": [],
   "source": []
  }
 ],
 "metadata": {
  "kernelspec": {
   "display_name": "Python 3 (ipykernel)",
   "language": "python",
   "name": "python3"
  },
  "language_info": {
   "codemirror_mode": {
    "name": "ipython",
    "version": 3
   },
   "file_extension": ".py",
   "mimetype": "text/x-python",
   "name": "python",
   "nbconvert_exporter": "python",
   "pygments_lexer": "ipython3",
   "version": "3.11.4"
  }
 },
 "nbformat": 4,
 "nbformat_minor": 5
}
